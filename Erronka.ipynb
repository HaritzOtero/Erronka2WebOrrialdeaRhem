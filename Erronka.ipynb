{
 "cells": [
  {
   "cell_type": "code",
   "execution_count": 1,
   "id": "e8cd4973-78cf-4da2-894f-c9d914125e50",
   "metadata": {},
   "outputs": [],
   "source": [
    "# Gelaxka hau MySQL datu-basera konektatzen da eta profileko argazkirik ez duten erabiltzaileak berreskuratzen ditu.\n",
    "# Hutsik dauden edo \"\" balio generiko bat duten erabiltzaileak identifikatzen ditu.\n"
   ]
  },
  {
   "cell_type": "code",
   "execution_count": 2,
   "id": "fc50aedd-c55c-4271-b997-a68dce7b9572",
   "metadata": {},
   "outputs": [
    {
     "name": "stdout",
     "output_type": "stream",
     "text": [
      "Argazki gabeko usuarioak:\n",
      "Username: izaskun@gmail.com, Izena: izaskun, Abizena: ffff\n",
      "Username: haritz@gmail.com, Izena: Haritz, Abizena: Otero\n"
     ]
    }
   ],
   "source": [
    "import mysql.connector\n",
    "\n",
    "# Datu base konexioa\n",
    "db = mysql.connector.connect(\n",
    "    host=\"localhost\",\n",
    "    user=\"root\",   \n",
    "    password=\"jS*5i9Q9Z9ox/_4lLVik'*z2KJNt<(1ZPo9Sr#ZiGJMW/1Br4yeJ%`bBzl5<'S+&\",\n",
    "    database=\"rhem\"\n",
    ")\n",
    "\n",
    "cursor = db.cursor()\n",
    "\n",
    "\n",
    "query = \"SELECT username, izena, abizena FROM users WHERE irudia = '' OR irudia IS NULL\"\n",
    "cursor.execute(query)\n",
    "\n",
    "\n",
    "usuarios_sin_foto = cursor.fetchall()\n",
    "\n",
    "\n",
    "if usuarios_sin_foto:\n",
    "    print(\"Argazki gabeko usuarioak:\")\n",
    "    for usuario in usuarios_sin_foto:\n",
    "        print(f\"Username: {usuario[0]}, Izena: {usuario[1]}, Abizena: {usuario[2]}\")\n",
    "else:\n",
    "    print(\"Usuario guztiak dute argazkia.\")\n",
    "\n",
    "\n",
    "cursor.close()\n",
    "db.close()\n"
   ]
  },
  {
   "cell_type": "code",
   "execution_count": 3,
   "id": "a79c3740-a125-4940-b67a-da1404cb59c2",
   "metadata": {},
   "outputs": [],
   "source": [
    "# Gelaxka honek mezu elektroniko bat bidaltzen dio profil-argazki bat igota ez duen erabiltzaile bakoitzari.\n",
    "# Postak erabiltzaileari jakinarazten dio argazki bat igo behar duela bere profilera.\n",
    "\n"
   ]
  },
  {
   "cell_type": "code",
   "execution_count": 4,
   "id": "17e9070a-a707-4797-85f8-fc124a9ecfcf",
   "metadata": {},
   "outputs": [
    {
     "name": "stdout",
     "output_type": "stream",
     "text": [
      "Maila bidalita izaskun@gmail.com -ri\n",
      "Maila bidalita haritz@gmail.com -ri\n"
     ]
    }
   ],
   "source": [
    "import smtplib\n",
    "from email.mime.text import MIMEText\n",
    "from email.mime.multipart import MIMEMultipart\n",
    "\n",
    "\n",
    "smtp_server = \"localhost\"  \n",
    "smtp_port = 2525          \n",
    "email_user = \"ugarteburutorlojuak@mail.com\"  \n",
    "\n",
    "\n",
    "def enviar_correo(destinatario, nombre):\n",
    "    asunto = \"Argazkia gehitu!\"\n",
    "    cuerpo = f\"\"\"\n",
    "    Kaixo {nombre},\n",
    "\n",
    "    Zure kontuan ez argazkia ez daukazula igota konturatu gara.\n",
    "    Momentu bat daukazunean agrazka igotzea eskatzen dizugu, mesedez.\n",
    "\n",
    "    Ekerrikasko zure parte-hartzeagatik!\n",
    "\n",
    "    Informatika taldea.\n",
    "    \"\"\"\n",
    "\n",
    "\n",
    "    msg = MIMEMultipart()\n",
    "    msg[\"From\"] = email_user\n",
    "    msg[\"To\"] = destinatario\n",
    "    msg[\"Subject\"] = asunto\n",
    "    msg.attach(MIMEText(cuerpo, \"plain\"))\n",
    "\n",
    "\n",
    "    try:\n",
    "        with smtplib.SMTP(smtp_server, smtp_port) as server:\n",
    "            server.sendmail(email_user, destinatario, msg.as_string())\n",
    "        print(f\"Maila bidalita {destinatario} -ri\")\n",
    "    except Exception as e:\n",
    "        print(f\"Errorea korreoa bidaltzen {destinatario}: {e}\")\n",
    "\n",
    "\n",
    "for usuario in usuarios_sin_foto:\n",
    "    username, nombre, _ = usuario\n",
    "    enviar_correo(username, nombre)\n"
   ]
  },
  {
   "cell_type": "code",
   "execution_count": null,
   "id": "e52dfed5-1ff1-4c81-b961-ea855651315a",
   "metadata": {},
   "outputs": [],
   "source": []
  }
 ],
 "metadata": {
  "kernelspec": {
   "display_name": "Python 3 (ipykernel)",
   "language": "python",
   "name": "python3"
  },
  "language_info": {
   "codemirror_mode": {
    "name": "ipython",
    "version": 3
   },
   "file_extension": ".py",
   "mimetype": "text/x-python",
   "name": "python",
   "nbconvert_exporter": "python",
   "pygments_lexer": "ipython3",
   "version": "3.8.10"
  }
 },
 "nbformat": 4,
 "nbformat_minor": 5
}
