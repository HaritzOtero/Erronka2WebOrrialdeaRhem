{
 "cells": [
  {
   "cell_type": "code",
   "execution_count": 1,
   "id": "e8cd4973-78cf-4da2-894f-c9d914125e50",
   "metadata": {},
   "outputs": [],
   "source": [
    "# Esta celda conecta a la base de datos MySQL y recupera los usuarios que no tienen una foto de perfil.\n",
    "# Identifica a los usuarios cuya columna `irudia` está vacía o contiene un valor genérico como `''`.\n"
   ]
  },
  {
   "cell_type": "code",
   "execution_count": 2,
   "id": "fc50aedd-c55c-4271-b997-a68dce7b9572",
   "metadata": {},
   "outputs": [
    {
     "name": "stdout",
     "output_type": "stream",
     "text": [
      "Usuarios sin foto de perfil:\n",
      "Username: izaskun@gmail.com, Nombre: izaskun, Apellido: ffff\n",
      "Username: haritz@gmail.com, Nombre: Haritz, Apellido: Otero\n"
     ]
    }
   ],
   "source": [
    "import mysql.connector\n",
    "\n",
    "# Conexión a la base de datos\n",
    "db = mysql.connector.connect(\n",
    "    host=\"localhost\",    # Cambia según tu configuración\n",
    "    user=\"root\",   # Usuario de la base de datos\n",
    "    password=\"jS*5i9Q9Z9ox/_4lLVik'*z2KJNt<(1ZPo9Sr#ZiGJMW/1Br4yeJ%`bBzl5<'S+&\",  # Contraseña de la base de datos\n",
    "    database=\"rhem\"     # Nombre de la base de datos\n",
    ")\n",
    "\n",
    "cursor = db.cursor()\n",
    "\n",
    "# Query para obtener usuarios sin foto\n",
    "query = \"SELECT username, izena, abizena FROM users WHERE irudia = '' OR irudia IS NULL\"\n",
    "cursor.execute(query)\n",
    "\n",
    "# Recuperar los resultados\n",
    "usuarios_sin_foto = cursor.fetchall()\n",
    "\n",
    "# Mostrar resultados\n",
    "if usuarios_sin_foto:\n",
    "    print(\"Argazki gabeko usuarioak:\")\n",
    "    for usuario in usuarios_sin_foto:\n",
    "        print(f\"Username: {usuario[0]}, Izena: {usuario[1]}, Abizena: {usuario[2]}\")\n",
    "else:\n",
    "    print(\"Usuario guztiak dute argazkia.\")\n",
    "\n",
    "# Cerrar conexión\n",
    "cursor.close()\n",
    "db.close()\n"
   ]
  },
  {
   "cell_type": "code",
   "execution_count": 3,
   "id": "a79c3740-a125-4940-b67a-da1404cb59c2",
   "metadata": {},
   "outputs": [],
   "source": [
    "# Esta celda envía un correo electrónico a cada usuario que no tiene una foto de perfil subida.\n",
    "# El correo informa al usuario que debe subir una foto a su perfil.\n"
   ]
  },
  {
   "cell_type": "code",
   "execution_count": 4,
   "id": "17e9070a-a707-4797-85f8-fc124a9ecfcf",
   "metadata": {},
   "outputs": [
    {
     "name": "stdout",
     "output_type": "stream",
     "text": [
      "Correo enviado a izaskun@gmail.com\n",
      "Correo enviado a haritz@gmail.com\n"
     ]
    }
   ],
   "source": [
    "import smtplib\n",
    "from email.mime.text import MIMEText\n",
    "from email.mime.multipart import MIMEMultipart\n",
    "\n",
    "# Configuración del servidor de correo (smtp4dev en el puerto 5000)\n",
    "smtp_server = \"localhost\"  # Cambiado a localhost ya que smtp4dev suele ejecutarse en tu máquina local\n",
    "smtp_port = 2525          # Puerto 5000 como mencionaste\n",
    "email_user = \"ugarteburutorlojuak@mail.com\"  # Cambia esto por tu correo (aunque puede no ser necesario con smtp4dev)\n",
    "\n",
    "# Función para enviar el correo\n",
    "def enviar_correo(destinatario, nombre):\n",
    "    asunto = \"Argazkia gehitu!\"\n",
    "    cuerpo = f\"\"\"\n",
    "    Kaixo {nombre},\n",
    "\n",
    "    Zure kontuan ez argazkia ez daukazula igota konturatu gara.\n",
    "    Momentu bat daukazunean agrazka igotzea eskatzen dizugu, mesedez.\n",
    "\n",
    "    Ekerrikasko zure parte-hartzeagatik!\n",
    "\n",
    "    Informatika taldea.\n",
    "    \"\"\"\n",
    "\n",
    "    # Crear el mensaje\n",
    "    msg = MIMEMultipart()\n",
    "    msg[\"From\"] = email_user\n",
    "    msg[\"To\"] = destinatario\n",
    "    msg[\"Subject\"] = asunto\n",
    "    msg.attach(MIMEText(cuerpo, \"plain\"))\n",
    "\n",
    "    # Enviar el mensaje\n",
    "    try:\n",
    "        with smtplib.SMTP(smtp_server, smtp_port) as server:\n",
    "            server.sendmail(email_user, destinatario, msg.as_string())\n",
    "        print(f\"Maila bidalita {destinatario} -ri\")\n",
    "    except Exception as e:\n",
    "        print(f\"Errorea korreoa bidaltzen {destinatario}: {e}\")\n",
    "\n",
    "# Enviar correos a los usuarios sin foto\n",
    "for usuario in usuarios_sin_foto:\n",
    "    username, nombre, _ = usuario\n",
    "    enviar_correo(username, nombre)\n"
   ]
  },
  {
   "cell_type": "code",
   "execution_count": null,
   "id": "e52dfed5-1ff1-4c81-b961-ea855651315a",
   "metadata": {},
   "outputs": [],
   "source": []
  }
 ],
 "metadata": {
  "kernelspec": {
   "display_name": "Python 3 (ipykernel)",
   "language": "python",
   "name": "python3"
  },
  "language_info": {
   "codemirror_mode": {
    "name": "ipython",
    "version": 3
   },
   "file_extension": ".py",
   "mimetype": "text/x-python",
   "name": "python",
   "nbconvert_exporter": "python",
   "pygments_lexer": "ipython3",
   "version": "3.8.10"
  }
 },
 "nbformat": 4,
 "nbformat_minor": 5
}
